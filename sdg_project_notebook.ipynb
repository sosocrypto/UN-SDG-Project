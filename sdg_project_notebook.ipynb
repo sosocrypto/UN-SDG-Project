{
  "cells": [
    {
      "cell_type": "markdown",
      "metadata": {
        "id": "5AElpJDX8CHU"
      },
      "source": [
        "# **UN SDG - NLP classification task**"
      ]
    },
    {
      "cell_type": "markdown",
      "metadata": {
        "id": "JVIzWWAa8uey"
      },
      "source": [
        "\n",
        "\n",
        "### Project Overview\n",
        "\n",
        "The 17 Sustainable Development Goals (SDGs) are a \"shared blueprint for peace and prosperity for people and the planet, now and into the future\". Streams of SDG-related documents produced by governments, academia, private and public entities are assessed by United Nations teams to measure such progress according to each SDG. This requires labelling to proceed to more in-depth analyses. Experts have to read the document and identify which SDGs are mentioned, or are related to it. These mapping exercises are time-consuming and subjective to personal knowledge of the links between the document contents and the SDGs. While UNEP has experts in many fields, links to the SDGs that are outside their expertise may be overlooked.\n",
        "Multi-label classification will be used to solve this problem by evaluating various classification models and use one which has the best score.\n",
        "\n",
        "\n",
        "***What is NLP?***\n",
        "It is a subfield of artificial intelligence (AI). It helps machines process and understand the human language so that they can automatically perform repetitive tasks.\n",
        "\n",
        "<a id=\"cont\"></a>\n",
        "\n",
        "## Table of Contents\n",
        "\n",
        "<a href=#one>1. Importing Packages</a>\n",
        "\n",
        "<a href=#two>2. Loading Data</a>\n",
        "\n",
        "<a href=#three>3. Pre-processing of the datasets</a>\n",
        "\n",
        "<a href=#four>4. Exploratory Data Analysis (EDA)</a>\n",
        "\n",
        "<a href=#five>5. Data Engineering</a>\n",
        "\n",
        "<a href=#six>6. Modeling</a>\n",
        "\n",
        "<a href=#seven>7. Model Performance</a>\n",
        "\n",
        "<a href=#eight>8. Model Explanations</a>\n",
        "\n",
        "<a href=#nine>9. Conclusion</a>\n",
        "\n",
        "<a href=#ten>10. References</a>\n",
        "\n",
        "\n",
        "\n",
        " <a id=\"one\"></a>\n",
        "# 1. Importing Packages\n",
        "<a href=#cont>Back to Table of Contents</a>\n",
        "\n",
        "---\n",
        "    \n",
        "|  Description: Importing Packages  |\n",
        "| :--------------------------- |\n",
        "| In this section we imported and briefly discussed the libraries that will be used throughout the analysis and modelling. |\n",
        "\n",
        "---\n",
        "\n",
        "### 1.1. Data analysis Packages\n",
        "To analyze the the data we will need the following packages\n",
        "<ul> \n",
        "    <li><b>Numpy</b></li>\n",
        "    Numpy is a packages used to perform a wide variety of mathematical operations on arrays. It adds powerful data structures to Python that guarantee efficient calculations with arrays and matrices and it supplies an enormous library of high-level mathematical functions that operate on these arrays and matrices.<br>\n",
        "    <li><b>Pandas</b></li>\n",
        "    Pandas is mainly used for data analysis and associated manipulation of tabular data in Dataframes. Pandas allows importing data from various file formats such as comma-separated values, JSON, Parquet, SQL database tables or queries, and Microsoft Excel.\n",
        "    <li><b>Matplotlib</b></li>\n",
        "    Matplotlib is a comprehensive library for creating static, animated, and interactive visualizations in Python. It is a cross-platform library for making 2D plots from data in arrays. It provides an object-oriented API that helps in embedding plots in applications using Python GUI toolkits such as PyQt, WxPythonotTkinter.\n",
        "    <li><b>Seaborn</b></li>\n",
        "    Seaborn is a library for making statistical graphics in Python. It builds on top of matplotlib and integrates closely with pandas data structures. Seaborn helps you explore and understand your data.\n",
        "    <li><b>Wordcloud</b></li>\n",
        "    A wordcloud is a collection, or cluster, of words depicted in different sizes. The bigger and bolder the word appears, the more often it’s mentioned within a given text and the more important it is.\n",
        "</ul>\n",
        "\n",
        "\n",
        "\n"
      ]
    },
    {
      "cell_type": "code",
      "source": [
        "# Libraries for data loading, data manipulation and data visulisation\n",
        "import pandas as pd      \n",
        "import numpy as np\n",
        "import seaborn as sns\n",
        "import matplotlib.pyplot as plt\n",
        "from wordcloud import WordCloud\n",
        "# set plot style\n",
        "sns.set()"
      ],
      "metadata": {
        "id": "hJN--omM7na-"
      },
      "execution_count": 70,
      "outputs": []
    },
    {
      "cell_type": "markdown",
      "source": [
        "### 1.2. Data Preparation Packages\n",
        "Before fitting the model to the data it is necessary to do some work on it. THe following packages will help achieve that.\n",
        "\n",
        "<ul> \n",
        "    <li><b>stopwords</b></li>\n",
        "    Decision trees regression normally use mean squared error (MSE) to decide to split a node in two or more sub-nodes. Suppose we are doing a binary tree the algorithm first will pick a value, and split the data into two subset. For each subset, it will calculate the MSE separately.\n",
        "    <li><b>tokenizer</b></li>\n",
        "    A random forest regressor. A random forest is a meta estimator that fits a number of classifying decision trees on various sub-samples of the dataset and uses averaging to improve the predictive accuracy and control over-fitting.\n",
        "    <li><b>WordNetLemmatizer</b></li>\n",
        "    A voting regressor is an ensemble meta-estimator that fits several base regressors, each on the whole dataset. Then it averages the individual predictions to form a final prediction.\n",
        "    <li><b>CountVectorizer</b></li>\n",
        "    Stacked generalization consists in stacking the output of individual estimator and use a regressor to compute the final prediction. \n",
        "    <li><b>PorterStemmer</b></li>\n",
        "    A Bagging regressor is an ensemble meta-estimator that fits base regressors each on random subsets of the original dataset and then aggregate their individual predictions (either by voting or by averaging) to form a final prediction.\n",
        "    <li><b>SVM</b></li>\n",
        "    Support vector machines (SVMs) are a set of supervised learning methods used for classification, regression and outliers detection. The advantages of support vector machines are: Effective in high dimensional spaces. Still effective in cases where number of dimensions is greater than the number of samples.\n",
        "    <li><b>Seaborn</b></li>\n",
        "    Seaborn is a library for making statistical graphics in Python. It builds on top of matplotlib and integrates closely with pandas data structures. Seaborn helps you explore and understand your data.\n",
        "</ul>"
      ],
      "metadata": {
        "id": "-nnyGreH-XYs"
      }
    },
    {
      "cell_type": "code",
      "source": [
        "import nltk   #Importing nltk\n",
        "from nltk.corpus import stopwords  #importing Stopwords\n",
        "from nltk.tokenize import word_tokenize, TreebankWordTokenizer\n",
        "from nltk.stem import WordNetLemmatizer\n",
        "from sklearn.feature_extraction.text import CountVectorizer\n",
        "from nltk import SnowballStemmer, PorterStemmer, LancasterStemmer\n",
        "from sklearn.preprocessing import StandardScaler, MaxAbsScaler\n",
        "from sklearn.model_selection import train_test_split\n",
        "from nltk.probability import FreqDist"
      ],
      "metadata": {
        "id": "jG78FIDI-aBh"
      },
      "execution_count": 71,
      "outputs": []
    },
    {
      "cell_type": "code",
      "source": [
        "import warnings\n",
        "warnings.filterwarnings('ignore')"
      ],
      "metadata": {
        "id": "a2wAf41wCfHX"
      },
      "execution_count": 72,
      "outputs": []
    },
    {
      "cell_type": "markdown",
      "source": [
        "### 1.3. Data Engineering Packages\n"
      ],
      "metadata": {
        "id": "YPaLCeEaCk9B"
      }
    },
    {
      "cell_type": "code",
      "source": [
        "from sklearn.utils import resample\n",
        "from nltk.util import ngrams\n",
        "from imblearn.over_sampling import SMOTE \n",
        "from sklearn.feature_extraction.text import CountVectorizer\n",
        "from sklearn.preprocessing import LabelEncoder\n",
        "from sklearn.feature_extraction.text import TfidfVectorizer"
      ],
      "metadata": {
        "id": "JKOH0n5YCsHL"
      },
      "execution_count": 73,
      "outputs": []
    },
    {
      "cell_type": "markdown",
      "source": [
        "### 1.4. Machine Learning Packages\n",
        "To analyze the data we will need the following packages\n",
        "<ul> \n",
        "    <li><b>train_test_split</b></li> train_test_split is a model validation procedure that allows you to simulate how a model would perform on new/unseen data.\n",
        "    <li><b>LogisticRegression</b></li> Logistic regression is a statistical analysis method to predict a binary outcome, such as yes or no, based on prior observations of a data set.\n",
        "    <li><b>DecisionTreeClassifier</b></li> DecisionTreeClassifier is a class capable of performing multi-class classification on a dataset.\n",
        "    <li><b>XGBClassifier</b></li> XGBoost, which stands for Extreme Gradient Boosting, is a scalable, distributed gradient-boosted decision tree (GBDT) machine learning library. It provides parallel tree boosting and is the leading machine learning library for regression, classification, and ranking problems.\n",
        "    <li><b>CatBoostClassifier</b></li> CatBoost is an algorithm for gradient boosting on decision trees. It is developed by Yandex researchers and engineers, and is used for search, recommendation systems, personal assistant, self-driving cars, weather prediction and many other tasks at Yandex and in other companies, including CERN, Cloudflare, Careem taxi. It is in open-source and can be used by anyone. The CatBoost library can be used to solve both classification and regression challenge.\n",
        "    <li><b>VotingClassifier</b></li> A voting classifier is a machine learning estimator that trains various base models or estimators and predicts on the basis of aggregating the findings of each base estimator.\n",
        "</ul>"
      ],
      "metadata": {
        "id": "sIl5znb5EBLM"
      }
    },
    {
      "cell_type": "code",
      "source": [
        "# Libraries for data preparation and model building\n",
        "from sklearn.model_selection import train_test_split, GridSearchCV\n",
        "from sklearn.linear_model import LogisticRegression\n",
        "from sklearn.tree import DecisionTreeClassifier \n",
        "from sklearn.naive_bayes import GaussianNB\n",
        "from xgboost import XGBClassifier\n",
        "from catboost import CatBoostClassifier\n",
        "from sklearn.svm import SVC\n",
        "from sklearn.ensemble import VotingClassifier\n",
        "from sklearn.naive_bayes import MultinomialNB\n",
        "\n",
        "# Model performance metric libraries\n",
        "from sklearn.metrics import f1_score, precision_score, recall_score, confusion_matrix\n",
        "from sklearn.metrics import classification_report\n",
        "from sklearn import metrics"
      ],
      "metadata": {
        "id": "1TB9Vw6mE793"
      },
      "execution_count": 74,
      "outputs": []
    },
    {
      "cell_type": "markdown",
      "source": [
        "<a id=\"two\"></a>\n",
        "# 2. Loading the Data\n",
        "<a class=\"anchor\" id=\"1.1\"></a>\n",
        "<a href=#cont>Back to Table of Contents</a>\n",
        "\n",
        "---\n",
        "    \n",
        "|  Description: Loading the data  |\n",
        "| :--------------------------- |\n",
        "| In this section we are going to load the data from the `train` and  `test` file into DataFrames. |\n",
        "\n",
        "---\n",
        "\n",
        "For the pupose of the model development, two datasets have been provided in two csv files\n",
        "<ul>\n",
        "<li><b>Train Data Set</b></li>\n",
        "Training data is an extremely large dataset that is used to teach a machine learning model. Training data is used to teach prediction models that use machine learning algorithms how to extract features that are relevant to specific business goals.\n",
        "<li><b>Test Data Set</b></li>\n",
        "Test data is data which has been specifically identified for use in tests, typically of a computer program. Some data may be used in a confirmatory way, typically to verify that a given set of input to a given function produces some expected result.\n",
        "</ul>\n",
        "\n",
        "We will load these datasets in two data frames so we can use them for the model development. After loading the data, we will display the head of the dataset to get the first idea of the type of data we are working with.\n"
      ],
      "metadata": {
        "id": "DBK0_5ceGBdz"
      }
    },
    {
      "cell_type": "code",
      "source": [
        "#Loading the train dataset\n",
        "train_data = pd.read_csv('train.csv')\n",
        "train_data.head()"
      ],
      "metadata": {
        "colab": {
          "base_uri": "https://localhost:8080/",
          "height": 548
        },
        "id": "m1d4T2J3GHlE",
        "outputId": "b51bbe33-6c32-4741-925d-6cd8fa43a004"
      },
      "execution_count": 75,
      "outputs": [
        {
          "output_type": "execute_result",
          "data": {
            "text/plain": [
              "                                 doi                           text_id  \\\n",
              "0               10.18356/5950d914-en  bf7763beb5ad7a16764d1b7fa87ab018   \n",
              "1               10.18356/5950d914-en  b6415a528064b85fdde4b4c61239ed3a   \n",
              "2               10.18356/31959a6d-en  29127def7e81b999b87c8e887a4fe882   \n",
              "3  10.1787/eco/surveys-cze-2014-6-en  459db322b9e44630320fda76783e0f69   \n",
              "4        10.1787/9789264119536-11-en  8b7d8c6c605fe9695d08ab03d601e0e9   \n",
              "\n",
              "                                                text  sdg  labels_negative  \\\n",
              "0  Indicators for targets 9.b and 9.c have data a...    9                4   \n",
              "1  Manufacturing value added as a percentage of G...    9                0   \n",
              "2  To Share or Not to Share: That is the Question...    5                2   \n",
              "3  As of 2004, parents can work without losing th...    4                2   \n",
              "4  A question of considerable policy relevance is...   10                1   \n",
              "\n",
              "   labels_positive  agreement  id  \n",
              "0                5   0.111111   1  \n",
              "1                3   1.000000   2  \n",
              "2                7   0.555556   3  \n",
              "3                2   0.000000   4  \n",
              "4                4   0.600000   5  "
            ],
            "text/html": [
              "\n",
              "  <div id=\"df-6811870d-ff90-4df6-a349-701913df4edf\">\n",
              "    <div class=\"colab-df-container\">\n",
              "      <div>\n",
              "<style scoped>\n",
              "    .dataframe tbody tr th:only-of-type {\n",
              "        vertical-align: middle;\n",
              "    }\n",
              "\n",
              "    .dataframe tbody tr th {\n",
              "        vertical-align: top;\n",
              "    }\n",
              "\n",
              "    .dataframe thead th {\n",
              "        text-align: right;\n",
              "    }\n",
              "</style>\n",
              "<table border=\"1\" class=\"dataframe\">\n",
              "  <thead>\n",
              "    <tr style=\"text-align: right;\">\n",
              "      <th></th>\n",
              "      <th>doi</th>\n",
              "      <th>text_id</th>\n",
              "      <th>text</th>\n",
              "      <th>sdg</th>\n",
              "      <th>labels_negative</th>\n",
              "      <th>labels_positive</th>\n",
              "      <th>agreement</th>\n",
              "      <th>id</th>\n",
              "    </tr>\n",
              "  </thead>\n",
              "  <tbody>\n",
              "    <tr>\n",
              "      <th>0</th>\n",
              "      <td>10.18356/5950d914-en</td>\n",
              "      <td>bf7763beb5ad7a16764d1b7fa87ab018</td>\n",
              "      <td>Indicators for targets 9.b and 9.c have data a...</td>\n",
              "      <td>9</td>\n",
              "      <td>4</td>\n",
              "      <td>5</td>\n",
              "      <td>0.111111</td>\n",
              "      <td>1</td>\n",
              "    </tr>\n",
              "    <tr>\n",
              "      <th>1</th>\n",
              "      <td>10.18356/5950d914-en</td>\n",
              "      <td>b6415a528064b85fdde4b4c61239ed3a</td>\n",
              "      <td>Manufacturing value added as a percentage of G...</td>\n",
              "      <td>9</td>\n",
              "      <td>0</td>\n",
              "      <td>3</td>\n",
              "      <td>1.000000</td>\n",
              "      <td>2</td>\n",
              "    </tr>\n",
              "    <tr>\n",
              "      <th>2</th>\n",
              "      <td>10.18356/31959a6d-en</td>\n",
              "      <td>29127def7e81b999b87c8e887a4fe882</td>\n",
              "      <td>To Share or Not to Share: That is the Question...</td>\n",
              "      <td>5</td>\n",
              "      <td>2</td>\n",
              "      <td>7</td>\n",
              "      <td>0.555556</td>\n",
              "      <td>3</td>\n",
              "    </tr>\n",
              "    <tr>\n",
              "      <th>3</th>\n",
              "      <td>10.1787/eco/surveys-cze-2014-6-en</td>\n",
              "      <td>459db322b9e44630320fda76783e0f69</td>\n",
              "      <td>As of 2004, parents can work without losing th...</td>\n",
              "      <td>4</td>\n",
              "      <td>2</td>\n",
              "      <td>2</td>\n",
              "      <td>0.000000</td>\n",
              "      <td>4</td>\n",
              "    </tr>\n",
              "    <tr>\n",
              "      <th>4</th>\n",
              "      <td>10.1787/9789264119536-11-en</td>\n",
              "      <td>8b7d8c6c605fe9695d08ab03d601e0e9</td>\n",
              "      <td>A question of considerable policy relevance is...</td>\n",
              "      <td>10</td>\n",
              "      <td>1</td>\n",
              "      <td>4</td>\n",
              "      <td>0.600000</td>\n",
              "      <td>5</td>\n",
              "    </tr>\n",
              "  </tbody>\n",
              "</table>\n",
              "</div>\n",
              "      <button class=\"colab-df-convert\" onclick=\"convertToInteractive('df-6811870d-ff90-4df6-a349-701913df4edf')\"\n",
              "              title=\"Convert this dataframe to an interactive table.\"\n",
              "              style=\"display:none;\">\n",
              "        \n",
              "  <svg xmlns=\"http://www.w3.org/2000/svg\" height=\"24px\"viewBox=\"0 0 24 24\"\n",
              "       width=\"24px\">\n",
              "    <path d=\"M0 0h24v24H0V0z\" fill=\"none\"/>\n",
              "    <path d=\"M18.56 5.44l.94 2.06.94-2.06 2.06-.94-2.06-.94-.94-2.06-.94 2.06-2.06.94zm-11 1L8.5 8.5l.94-2.06 2.06-.94-2.06-.94L8.5 2.5l-.94 2.06-2.06.94zm10 10l.94 2.06.94-2.06 2.06-.94-2.06-.94-.94-2.06-.94 2.06-2.06.94z\"/><path d=\"M17.41 7.96l-1.37-1.37c-.4-.4-.92-.59-1.43-.59-.52 0-1.04.2-1.43.59L10.3 9.45l-7.72 7.72c-.78.78-.78 2.05 0 2.83L4 21.41c.39.39.9.59 1.41.59.51 0 1.02-.2 1.41-.59l7.78-7.78 2.81-2.81c.8-.78.8-2.07 0-2.86zM5.41 20L4 18.59l7.72-7.72 1.47 1.35L5.41 20z\"/>\n",
              "  </svg>\n",
              "      </button>\n",
              "      \n",
              "  <style>\n",
              "    .colab-df-container {\n",
              "      display:flex;\n",
              "      flex-wrap:wrap;\n",
              "      gap: 12px;\n",
              "    }\n",
              "\n",
              "    .colab-df-convert {\n",
              "      background-color: #E8F0FE;\n",
              "      border: none;\n",
              "      border-radius: 50%;\n",
              "      cursor: pointer;\n",
              "      display: none;\n",
              "      fill: #1967D2;\n",
              "      height: 32px;\n",
              "      padding: 0 0 0 0;\n",
              "      width: 32px;\n",
              "    }\n",
              "\n",
              "    .colab-df-convert:hover {\n",
              "      background-color: #E2EBFA;\n",
              "      box-shadow: 0px 1px 2px rgba(60, 64, 67, 0.3), 0px 1px 3px 1px rgba(60, 64, 67, 0.15);\n",
              "      fill: #174EA6;\n",
              "    }\n",
              "\n",
              "    [theme=dark] .colab-df-convert {\n",
              "      background-color: #3B4455;\n",
              "      fill: #D2E3FC;\n",
              "    }\n",
              "\n",
              "    [theme=dark] .colab-df-convert:hover {\n",
              "      background-color: #434B5C;\n",
              "      box-shadow: 0px 1px 3px 1px rgba(0, 0, 0, 0.15);\n",
              "      filter: drop-shadow(0px 1px 2px rgba(0, 0, 0, 0.3));\n",
              "      fill: #FFFFFF;\n",
              "    }\n",
              "  </style>\n",
              "\n",
              "      <script>\n",
              "        const buttonEl =\n",
              "          document.querySelector('#df-6811870d-ff90-4df6-a349-701913df4edf button.colab-df-convert');\n",
              "        buttonEl.style.display =\n",
              "          google.colab.kernel.accessAllowed ? 'block' : 'none';\n",
              "\n",
              "        async function convertToInteractive(key) {\n",
              "          const element = document.querySelector('#df-6811870d-ff90-4df6-a349-701913df4edf');\n",
              "          const dataTable =\n",
              "            await google.colab.kernel.invokeFunction('convertToInteractive',\n",
              "                                                     [key], {});\n",
              "          if (!dataTable) return;\n",
              "\n",
              "          const docLinkHtml = 'Like what you see? Visit the ' +\n",
              "            '<a target=\"_blank\" href=https://colab.research.google.com/notebooks/data_table.ipynb>data table notebook</a>'\n",
              "            + ' to learn more about interactive tables.';\n",
              "          element.innerHTML = '';\n",
              "          dataTable['output_type'] = 'display_data';\n",
              "          await google.colab.output.renderOutput(dataTable, element);\n",
              "          const docLink = document.createElement('div');\n",
              "          docLink.innerHTML = docLinkHtml;\n",
              "          element.appendChild(docLink);\n",
              "        }\n",
              "      </script>\n",
              "    </div>\n",
              "  </div>\n",
              "  "
            ]
          },
          "metadata": {},
          "execution_count": 75
        }
      ]
    },
    {
      "cell_type": "code",
      "source": [
        "#Loading the test dataset\n",
        "test_data = pd.read_csv('test.csv')\n",
        "test_data.head()"
      ],
      "metadata": {
        "colab": {
          "base_uri": "https://localhost:8080/",
          "height": 511
        },
        "id": "RU9heEbMGY5G",
        "outputId": "64729318-3fd5-486e-93a0-87b69f6f4396"
      },
      "execution_count": 76,
      "outputs": [
        {
          "output_type": "execute_result",
          "data": {
            "text/plain": [
              "                          doi                           text_id  \\\n",
              "0  10.1787/9789264204256-4-en  eb6faaeb2810029e3a2b9edf4b3d80e8   \n",
              "1  10.1787/9789264167865-7-en  fa7fa2ce7b03d60101073df216c05713   \n",
              "2        10.18356/ab2e0473-en  fa8afb153838b92b0e9d78b375689fde   \n",
              "3        10.18356/faf8a648-en  e86113bf51a0aed83b8d3e3ad0bf385d   \n",
              "4        10.18356/f3e7d816-en  34a60596f64e0723734228a27440a9e9   \n",
              "\n",
              "                                                text  labels_negative  \\\n",
              "0  Nearly 3 out of 10 adults in these countries p...                1   \n",
              "1  As urban areas become denser and rely more on ...                0   \n",
              "2  Women who work outside their homes need to pro...                0   \n",
              "3  The key governance bodies of this systemic res...                3   \n",
              "4  In terms of policies, the change of focus from...                0   \n",
              "\n",
              "   labels_positive  agreement  id  \n",
              "0                4        0.6   1  \n",
              "1                4        1.0   2  \n",
              "2                9        1.0   3  \n",
              "3                3        0.0   4  \n",
              "4                3        1.0   5  "
            ],
            "text/html": [
              "\n",
              "  <div id=\"df-bc630665-42e2-45e3-a8ac-edc1b137d2a7\">\n",
              "    <div class=\"colab-df-container\">\n",
              "      <div>\n",
              "<style scoped>\n",
              "    .dataframe tbody tr th:only-of-type {\n",
              "        vertical-align: middle;\n",
              "    }\n",
              "\n",
              "    .dataframe tbody tr th {\n",
              "        vertical-align: top;\n",
              "    }\n",
              "\n",
              "    .dataframe thead th {\n",
              "        text-align: right;\n",
              "    }\n",
              "</style>\n",
              "<table border=\"1\" class=\"dataframe\">\n",
              "  <thead>\n",
              "    <tr style=\"text-align: right;\">\n",
              "      <th></th>\n",
              "      <th>doi</th>\n",
              "      <th>text_id</th>\n",
              "      <th>text</th>\n",
              "      <th>labels_negative</th>\n",
              "      <th>labels_positive</th>\n",
              "      <th>agreement</th>\n",
              "      <th>id</th>\n",
              "    </tr>\n",
              "  </thead>\n",
              "  <tbody>\n",
              "    <tr>\n",
              "      <th>0</th>\n",
              "      <td>10.1787/9789264204256-4-en</td>\n",
              "      <td>eb6faaeb2810029e3a2b9edf4b3d80e8</td>\n",
              "      <td>Nearly 3 out of 10 adults in these countries p...</td>\n",
              "      <td>1</td>\n",
              "      <td>4</td>\n",
              "      <td>0.6</td>\n",
              "      <td>1</td>\n",
              "    </tr>\n",
              "    <tr>\n",
              "      <th>1</th>\n",
              "      <td>10.1787/9789264167865-7-en</td>\n",
              "      <td>fa7fa2ce7b03d60101073df216c05713</td>\n",
              "      <td>As urban areas become denser and rely more on ...</td>\n",
              "      <td>0</td>\n",
              "      <td>4</td>\n",
              "      <td>1.0</td>\n",
              "      <td>2</td>\n",
              "    </tr>\n",
              "    <tr>\n",
              "      <th>2</th>\n",
              "      <td>10.18356/ab2e0473-en</td>\n",
              "      <td>fa8afb153838b92b0e9d78b375689fde</td>\n",
              "      <td>Women who work outside their homes need to pro...</td>\n",
              "      <td>0</td>\n",
              "      <td>9</td>\n",
              "      <td>1.0</td>\n",
              "      <td>3</td>\n",
              "    </tr>\n",
              "    <tr>\n",
              "      <th>3</th>\n",
              "      <td>10.18356/faf8a648-en</td>\n",
              "      <td>e86113bf51a0aed83b8d3e3ad0bf385d</td>\n",
              "      <td>The key governance bodies of this systemic res...</td>\n",
              "      <td>3</td>\n",
              "      <td>3</td>\n",
              "      <td>0.0</td>\n",
              "      <td>4</td>\n",
              "    </tr>\n",
              "    <tr>\n",
              "      <th>4</th>\n",
              "      <td>10.18356/f3e7d816-en</td>\n",
              "      <td>34a60596f64e0723734228a27440a9e9</td>\n",
              "      <td>In terms of policies, the change of focus from...</td>\n",
              "      <td>0</td>\n",
              "      <td>3</td>\n",
              "      <td>1.0</td>\n",
              "      <td>5</td>\n",
              "    </tr>\n",
              "  </tbody>\n",
              "</table>\n",
              "</div>\n",
              "      <button class=\"colab-df-convert\" onclick=\"convertToInteractive('df-bc630665-42e2-45e3-a8ac-edc1b137d2a7')\"\n",
              "              title=\"Convert this dataframe to an interactive table.\"\n",
              "              style=\"display:none;\">\n",
              "        \n",
              "  <svg xmlns=\"http://www.w3.org/2000/svg\" height=\"24px\"viewBox=\"0 0 24 24\"\n",
              "       width=\"24px\">\n",
              "    <path d=\"M0 0h24v24H0V0z\" fill=\"none\"/>\n",
              "    <path d=\"M18.56 5.44l.94 2.06.94-2.06 2.06-.94-2.06-.94-.94-2.06-.94 2.06-2.06.94zm-11 1L8.5 8.5l.94-2.06 2.06-.94-2.06-.94L8.5 2.5l-.94 2.06-2.06.94zm10 10l.94 2.06.94-2.06 2.06-.94-2.06-.94-.94-2.06-.94 2.06-2.06.94z\"/><path d=\"M17.41 7.96l-1.37-1.37c-.4-.4-.92-.59-1.43-.59-.52 0-1.04.2-1.43.59L10.3 9.45l-7.72 7.72c-.78.78-.78 2.05 0 2.83L4 21.41c.39.39.9.59 1.41.59.51 0 1.02-.2 1.41-.59l7.78-7.78 2.81-2.81c.8-.78.8-2.07 0-2.86zM5.41 20L4 18.59l7.72-7.72 1.47 1.35L5.41 20z\"/>\n",
              "  </svg>\n",
              "      </button>\n",
              "      \n",
              "  <style>\n",
              "    .colab-df-container {\n",
              "      display:flex;\n",
              "      flex-wrap:wrap;\n",
              "      gap: 12px;\n",
              "    }\n",
              "\n",
              "    .colab-df-convert {\n",
              "      background-color: #E8F0FE;\n",
              "      border: none;\n",
              "      border-radius: 50%;\n",
              "      cursor: pointer;\n",
              "      display: none;\n",
              "      fill: #1967D2;\n",
              "      height: 32px;\n",
              "      padding: 0 0 0 0;\n",
              "      width: 32px;\n",
              "    }\n",
              "\n",
              "    .colab-df-convert:hover {\n",
              "      background-color: #E2EBFA;\n",
              "      box-shadow: 0px 1px 2px rgba(60, 64, 67, 0.3), 0px 1px 3px 1px rgba(60, 64, 67, 0.15);\n",
              "      fill: #174EA6;\n",
              "    }\n",
              "\n",
              "    [theme=dark] .colab-df-convert {\n",
              "      background-color: #3B4455;\n",
              "      fill: #D2E3FC;\n",
              "    }\n",
              "\n",
              "    [theme=dark] .colab-df-convert:hover {\n",
              "      background-color: #434B5C;\n",
              "      box-shadow: 0px 1px 3px 1px rgba(0, 0, 0, 0.15);\n",
              "      filter: drop-shadow(0px 1px 2px rgba(0, 0, 0, 0.3));\n",
              "      fill: #FFFFFF;\n",
              "    }\n",
              "  </style>\n",
              "\n",
              "      <script>\n",
              "        const buttonEl =\n",
              "          document.querySelector('#df-bc630665-42e2-45e3-a8ac-edc1b137d2a7 button.colab-df-convert');\n",
              "        buttonEl.style.display =\n",
              "          google.colab.kernel.accessAllowed ? 'block' : 'none';\n",
              "\n",
              "        async function convertToInteractive(key) {\n",
              "          const element = document.querySelector('#df-bc630665-42e2-45e3-a8ac-edc1b137d2a7');\n",
              "          const dataTable =\n",
              "            await google.colab.kernel.invokeFunction('convertToInteractive',\n",
              "                                                     [key], {});\n",
              "          if (!dataTable) return;\n",
              "\n",
              "          const docLinkHtml = 'Like what you see? Visit the ' +\n",
              "            '<a target=\"_blank\" href=https://colab.research.google.com/notebooks/data_table.ipynb>data table notebook</a>'\n",
              "            + ' to learn more about interactive tables.';\n",
              "          element.innerHTML = '';\n",
              "          dataTable['output_type'] = 'display_data';\n",
              "          await google.colab.output.renderOutput(dataTable, element);\n",
              "          const docLink = document.createElement('div');\n",
              "          docLink.innerHTML = docLinkHtml;\n",
              "          element.appendChild(docLink);\n",
              "        }\n",
              "      </script>\n",
              "    </div>\n",
              "  </div>\n",
              "  "
            ]
          },
          "metadata": {},
          "execution_count": 76
        }
      ]
    },
    {
      "cell_type": "markdown",
      "source": [
        "<a id=\"three\"></a>\n",
        "# 3. Pre-processing of the datasets\n",
        "<a class=\"anchor\" id=\"1.1\"></a>\n",
        "<a href=#cont>Back to Table of Contents</a>\n",
        "\n",
        "---"
      ],
      "metadata": {
        "id": "dQS8PmDmH73C"
      }
    },
    {
      "cell_type": "code",
      "source": [],
      "metadata": {
        "id": "vgdnL-zhIEhs"
      },
      "execution_count": 76,
      "outputs": []
    },
    {
      "cell_type": "markdown",
      "metadata": {
        "id": "Q3mv-Vxb7Afe"
      },
      "source": [
        "<a id=\"four\"></a>\n",
        "# 4. Exploratory Data Analysis(EDA)\n",
        "<a class=\"anchor\" id=\"1.1\"></a>\n",
        "<a href=#cont>Back to Table of Contents</a>\n",
        "\n",
        "---"
      ]
    },
    {
      "cell_type": "markdown",
      "metadata": {
        "id": "lH1UJAiZIs41"
      },
      "source": [
        "### The number of records and columns"
      ]
    },
    {
      "cell_type": "code",
      "execution_count": 77,
      "metadata": {
        "colab": {
          "base_uri": "https://localhost:8080/"
        },
        "id": "mYVBY82xI5Ux",
        "outputId": "58f8b410-9717-4698-b9ce-6d40aef99b42"
      },
      "outputs": [
        {
          "output_type": "execute_result",
          "data": {
            "text/plain": [
              "(25944, 8)"
            ]
          },
          "metadata": {},
          "execution_count": 77
        }
      ],
      "source": [
        "train_data.shape"
      ]
    },
    {
      "cell_type": "code",
      "execution_count": 78,
      "metadata": {
        "colab": {
          "base_uri": "https://localhost:8080/"
        },
        "id": "HggpA9tX7Afg",
        "outputId": "02e279e2-4791-4895-cc71-387ba6592150"
      },
      "outputs": [
        {
          "output_type": "execute_result",
          "data": {
            "text/plain": [
              "(6487, 7)"
            ]
          },
          "metadata": {},
          "execution_count": 78
        }
      ],
      "source": [
        "test_data.shape"
      ]
    },
    {
      "cell_type": "code",
      "execution_count": 79,
      "metadata": {
        "colab": {
          "base_uri": "https://localhost:8080/"
        },
        "id": "ZlxPHB157Afh",
        "outputId": "5a2b0930-d22c-407a-9ee9-30a3cadf91eb"
      },
      "outputs": [
        {
          "output_type": "stream",
          "name": "stdout",
          "text": [
            "<class 'pandas.core.frame.DataFrame'>\n",
            "RangeIndex: 25944 entries, 0 to 25943\n",
            "Data columns (total 8 columns):\n",
            " #   Column           Non-Null Count  Dtype  \n",
            "---  ------           --------------  -----  \n",
            " 0   doi              25944 non-null  object \n",
            " 1   text_id          25944 non-null  object \n",
            " 2   text             25944 non-null  object \n",
            " 3   sdg              25944 non-null  int64  \n",
            " 4   labels_negative  25944 non-null  int64  \n",
            " 5   labels_positive  25944 non-null  int64  \n",
            " 6   agreement        25944 non-null  float64\n",
            " 7   id               25944 non-null  int64  \n",
            "dtypes: float64(1), int64(4), object(3)\n",
            "memory usage: 1.6+ MB\n"
          ]
        }
      ],
      "source": [
        "train_data.info()"
      ]
    },
    {
      "cell_type": "markdown",
      "metadata": {
        "id": "JXgjRZrz7Afi"
      },
      "source": [
        "From these, we can see that there are no null values in our dataset. "
      ]
    },
    {
      "cell_type": "markdown",
      "metadata": {
        "id": "5NHB8gT6I7k3"
      },
      "source": [
        "### Columns"
      ]
    },
    {
      "cell_type": "code",
      "execution_count": 80,
      "metadata": {
        "colab": {
          "base_uri": "https://localhost:8080/"
        },
        "id": "mGTbYtvCJ59D",
        "outputId": "ea185c6d-818d-4a54-a4c5-71cde50a672b"
      },
      "outputs": [
        {
          "output_type": "execute_result",
          "data": {
            "text/plain": [
              "['doi',\n",
              " 'text_id',\n",
              " 'text',\n",
              " 'sdg',\n",
              " 'labels_negative',\n",
              " 'labels_positive',\n",
              " 'agreement',\n",
              " 'id']"
            ]
          },
          "metadata": {},
          "execution_count": 80
        }
      ],
      "source": [
        "train_data.columns.to_list()"
      ]
    },
    {
      "cell_type": "code",
      "source": [
        "test_data.columns.to_list()"
      ],
      "metadata": {
        "colab": {
          "base_uri": "https://localhost:8080/"
        },
        "id": "xMYyEH5wOFqI",
        "outputId": "2fd988d4-53f3-4b4f-a30f-becf01b8f7cf"
      },
      "execution_count": 81,
      "outputs": [
        {
          "output_type": "execute_result",
          "data": {
            "text/plain": [
              "['doi',\n",
              " 'text_id',\n",
              " 'text',\n",
              " 'labels_negative',\n",
              " 'labels_positive',\n",
              " 'agreement',\n",
              " 'id']"
            ]
          },
          "metadata": {},
          "execution_count": 81
        }
      ]
    },
    {
      "cell_type": "markdown",
      "metadata": {
        "id": "I-tw3unu7Afk"
      },
      "source": [
        "### Classes"
      ]
    },
    {
      "cell_type": "code",
      "execution_count": 82,
      "metadata": {
        "colab": {
          "base_uri": "https://localhost:8080/"
        },
        "id": "0z_Oc7jO7Afk",
        "outputId": "d171e16c-04db-43ae-cfc3-1f09c2e3e69d"
      },
      "outputs": [
        {
          "output_type": "execute_result",
          "data": {
            "text/plain": [
              "array([ 9,  5,  4, 10,  3,  1, 13, 11,  2,  7,  6,  8, 15, 12, 14])"
            ]
          },
          "metadata": {},
          "execution_count": 82
        }
      ],
      "source": [
        "train_data.sdg.unique()"
      ]
    },
    {
      "cell_type": "markdown",
      "metadata": {
        "id": "BejxJx8u7Afl"
      },
      "source": [
        "### Distribution Of Data"
      ]
    },
    {
      "cell_type": "code",
      "execution_count": 83,
      "metadata": {
        "colab": {
          "base_uri": "https://localhost:8080/"
        },
        "id": "Kb8NMSeC7Afl",
        "outputId": "45b4cbc3-93e9-4e24-a0b3-c25f3f4e4162"
      },
      "outputs": [
        {
          "output_type": "execute_result",
          "data": {
            "text/plain": [
              "5     3438\n",
              "4     2999\n",
              "7     2473\n",
              "6     2247\n",
              "1     2190\n",
              "3     2132\n",
              "2     1963\n",
              "11    1798\n",
              "13    1695\n",
              "8     1218\n",
              "14     917\n",
              "9      873\n",
              "10     843\n",
              "15     785\n",
              "12     373\n",
              "Name: sdg, dtype: int64"
            ]
          },
          "metadata": {},
          "execution_count": 83
        }
      ],
      "source": [
        "# Checking the distribution of the SDG classes \n",
        "train_df['sdg'].value_counts()"
      ]
    },
    {
      "cell_type": "code",
      "execution_count": 84,
      "metadata": {
        "colab": {
          "base_uri": "https://localhost:8080/",
          "height": 305
        },
        "id": "UwbqGfyN7Afm",
        "outputId": "c536110f-6196-41d4-a295-bca1c34bd8c9"
      },
      "outputs": [
        {
          "output_type": "display_data",
          "data": {
            "text/plain": [
              "<Figure size 432x288 with 1 Axes>"
            ],
            "image/png": "[encoded data removed]"
          },
          "metadata": {}
        }
      ],
      "source": [
        "# graphical representaion of class distribution \n",
        "train_df['sdg'].value_counts().plot(kind = 'bar', color=['lightseagreen'])\n",
        "plt.title('SDG Distribution ')\n",
        "plt.xlabel('SDG class')\n",
        "plt.ylabel('count')\n",
        "plt.show()"
      ]
    },
    {
      "cell_type": "markdown",
      "metadata": {
        "id": "P8pDzjCK7Afn"
      },
      "source": [
        "### Most Common Words"
      ]
    },
    {
      "cell_type": "code",
      "execution_count": 85,
      "metadata": {
        "colab": {
          "base_uri": "https://localhost:8080/",
          "height": 217
        },
        "id": "RC0YOr4r7Afo",
        "outputId": "5dc6732d-f96e-478b-94d2-a193fe05b4f7"
      },
      "outputs": [
        {
          "output_type": "error",
          "ename": "NameError",
          "evalue": "ignored",
          "traceback": [
            "\u001b[0;31m---------------------------------------------------------------------------\u001b[0m",
            "\u001b[0;31mNameError\u001b[0m                                 Traceback (most recent call last)",
            "\u001b[0;32m<ipython-input-85-3ff8bb7a28a6>\u001b[0m in \u001b[0;36m<module>\u001b[0;34m\u001b[0m\n\u001b[1;32m      1\u001b[0m \u001b[0;31m#extract all words in the cleaned data\u001b[0m\u001b[0;34m\u001b[0m\u001b[0;34m\u001b[0m\u001b[0;34m\u001b[0m\u001b[0m\n\u001b[0;32m----> 2\u001b[0;31m \u001b[0mall_words\u001b[0m \u001b[0;34m=\u001b[0m \u001b[0mtrain_data\u001b[0m\u001b[0;34m[\u001b[0m\u001b[0;34m'text'\u001b[0m\u001b[0;34m]\u001b[0m\u001b[0;34m.\u001b[0m\u001b[0mapply\u001b[0m\u001b[0;34m(\u001b[0m\u001b[0mjoin_w\u001b[0m\u001b[0;34m)\u001b[0m\u001b[0;34m\u001b[0m\u001b[0;34m\u001b[0m\u001b[0m\n\u001b[0m\u001b[1;32m      3\u001b[0m \u001b[0;31m#' '.join(word for word in train_df.text_lemmatized)\u001b[0m\u001b[0;34m\u001b[0m\u001b[0;34m\u001b[0m\u001b[0;34m\u001b[0m\u001b[0m\n\u001b[1;32m      4\u001b[0m \u001b[0mall_words\u001b[0m\u001b[0;34m\u001b[0m\u001b[0;34m\u001b[0m\u001b[0m\n",
            "\u001b[0;31mNameError\u001b[0m: name 'join_w' is not defined"
          ]
        }
      ],
      "source": [
        "#extract all words in the cleaned data\n",
        "all_words = train_data['text'].apply(join_w)\n",
        "#' '.join(word for word in train_df.text_lemmatized)\n",
        "all_words"
      ]
    },
    {
      "cell_type": "code",
      "execution_count": null,
      "metadata": {
        "id": "CkuhFFJ-7Afo"
      },
      "outputs": [],
      "source": [
        "# Visualization of the data\n",
        "wordcloud = WordCloud(width=800, height=500, max_font_size=110).generate(join_w(all_words))\n",
        "fig, ax = plt.subplots(2, 1, figsize = (10, 10), facecolor = None)\n",
        "#plt.figure(figsize=(10, 7))\n",
        "ax[0].imshow(wordcloud, interpolation=\"bilinear\")\n",
        "ax[0].set_title(\"All Words\")\n",
        "ax[0].axis('off')\n",
        "#plt.show()\n",
        "\n",
        "mostcommon = FreqDist(join_w(all_words).split(' ')).most_common(20)\n",
        "x, y = zip(*mostcommon)\n",
        "ax[1].bar(x, y, color='mediumspringgreen')\n",
        "ax[1].set_xlabel('Words')\n",
        "ax[1].set_ylabel('Frequency of Words')\n",
        "ax[1].tick_params(axis='x', labelrotation=60)\n",
        "\n",
        "plt.tight_layout()\n",
        "plt.show()"
      ]
    },
    {
      "cell_type": "markdown",
      "metadata": {
        "id": "kTOvQUB77Afp"
      },
      "source": [
        "## Data Pre-processing"
      ]
    },
    {
      "cell_type": "markdown",
      "metadata": {
        "id": "QpqsMmbC7Afq"
      },
      "source": [
        "### i. Natural Language Processing"
      ]
    },
    {
      "cell_type": "markdown",
      "metadata": {
        "id": "Z3dGnwAQ7Afq"
      },
      "source": [
        "### Text Cleaning\n",
        "\n",
        "- Lowercase Conversion\n",
        "- Remove Punctuations\n",
        "- Tokenization\n",
        "- Remove stop words\n",
        "- Stemming\n",
        "- Lemmatizaton"
      ]
    },
    {
      "cell_type": "markdown",
      "metadata": {
        "id": "HnzytJmt7Afr"
      },
      "source": [
        "#### Convert to Lowercase"
      ]
    },
    {
      "cell_type": "code",
      "execution_count": null,
      "metadata": {
        "id": "o9hAimCN7Afr"
      },
      "outputs": [],
      "source": [
        "def lower(df):\n",
        "    df['text'] = df['text'].str.lower()\n",
        "    return df['text']"
      ]
    },
    {
      "cell_type": "markdown",
      "metadata": {
        "id": "SxszPWIf7Afr"
      },
      "source": [
        "#### Remove Punctuation and Digits"
      ]
    },
    {
      "cell_type": "code",
      "execution_count": null,
      "metadata": {
        "id": "4AXtEe9j7Afs"
      },
      "outputs": [],
      "source": [
        "def remove_punct(words):\n",
        "    text=[]\n",
        "    words=words.split()\n",
        "    for word in words:\n",
        "        text.append(''.join([l for l in word if l.isalpha()]))\n",
        "    return ' '.join(text)"
      ]
    },
    {
      "cell_type": "markdown",
      "metadata": {
        "id": "GJsoA7--7Afs"
      },
      "source": [
        "### Tokenization"
      ]
    },
    {
      "cell_type": "code",
      "execution_count": null,
      "metadata": {
        "id": "-LVx6ymR7Afs"
      },
      "outputs": [],
      "source": [
        "tokeniser = TreebankWordTokenizer()"
      ]
    },
    {
      "cell_type": "markdown",
      "metadata": {
        "id": "CjAQQHqZ7Aft"
      },
      "source": [
        "### Remove Stop Words"
      ]
    },
    {
      "cell_type": "code",
      "execution_count": null,
      "metadata": {
        "id": "IYmRaJq57Aft"
      },
      "outputs": [],
      "source": [
        "def remove_stop_words(tokens):    \n",
        "    return [t for t in tokens if t not in stopwords.words('english')]"
      ]
    },
    {
      "cell_type": "markdown",
      "metadata": {
        "id": "Jw409qtV7Afu"
      },
      "source": [
        "### Stemming"
      ]
    },
    {
      "cell_type": "code",
      "execution_count": null,
      "metadata": {
        "id": "ycbaLRl87Afu"
      },
      "outputs": [],
      "source": [
        "#function to stem our words\n",
        "def return_stemmer(words):\n",
        "    stemmer = PorterStemmer()\n",
        "    return [stemmer.stem(word) for word in words]"
      ]
    },
    {
      "cell_type": "markdown",
      "metadata": {
        "id": "asLVYmqN7Afu"
      },
      "source": [
        "### Lemmatization"
      ]
    },
    {
      "cell_type": "code",
      "execution_count": null,
      "metadata": {
        "id": "5tJ0OfWK7Afv"
      },
      "outputs": [],
      "source": [
        "#function to lemmatize our words\n",
        "def return_lemmer(words):\n",
        "    lemmatizer = WordNetLemmatizer()\n",
        "    return [lemmatizer.lemmatize(word) for word in words]"
      ]
    },
    {
      "cell_type": "markdown",
      "metadata": {
        "id": "DVApeeIo7Afv"
      },
      "source": [
        "### Pre-processing pipleline"
      ]
    },
    {
      "cell_type": "code",
      "execution_count": null,
      "metadata": {
        "id": "UJBvaHkS7Afv"
      },
      "outputs": [],
      "source": [
        "def pre_process(df):\n",
        "    df['text']=lower(df)\n",
        "    df['text_punct']=df['text'].apply(remove_punct)\n",
        "    df['text_token'] = df['text_punct'].apply(tokeniser.tokenize)\n",
        "    df['text_stop']=df['text_token'].apply(remove_stop_words)\n",
        "    df['text_stemmed'] = df['text_stop'].apply(return_stemmer)\n",
        "    df['text_lemmatized'] = df['text_stop'].apply(return_lemmer)\n",
        "    \n",
        "    return df"
      ]
    },
    {
      "cell_type": "code",
      "execution_count": null,
      "metadata": {
        "id": "BWtoHlE27Afw"
      },
      "outputs": [],
      "source": [
        "#preprocessing the train data\n",
        "pre_process(train_data)\n",
        "train_data.head()"
      ]
    },
    {
      "cell_type": "code",
      "execution_count": null,
      "metadata": {
        "id": "05h1HqY87Afw"
      },
      "outputs": [],
      "source": [
        "#preprocessing the test data\n",
        "test_data=pre_process(test_data)"
      ]
    },
    {
      "cell_type": "markdown",
      "metadata": {
        "id": "vPj6--kf7Afx"
      },
      "source": [
        "Saving the pre-processed data to a CSV file so that we do not have to repeat the process each time:"
      ]
    },
    {
      "cell_type": "code",
      "execution_count": null,
      "metadata": {
        "id": "YiApB7_t7Afx"
      },
      "outputs": [],
      "source": [
        "#data.to_csv('clean_train.csv', index=None)\n",
        "from ast import literal_eval\n",
        "train_df=pd.read_csv('clean_train.csv', converters={'text_lemmatized': literal_eval})\n",
        "train_df.head()"
      ]
    },
    {
      "cell_type": "markdown",
      "metadata": {
        "id": "Wtv04Pq57Afy"
      },
      "source": [
        "### iii. Drop Observations"
      ]
    },
    {
      "cell_type": "code",
      "execution_count": null,
      "metadata": {
        "id": "RhjKSSWK7Afy"
      },
      "outputs": [],
      "source": [
        "train_df['percentage_positive']=(train_df['labels_positive']/(train_df['labels_positive']+train_df['labels_negative']))*100"
      ]
    },
    {
      "cell_type": "code",
      "execution_count": null,
      "metadata": {
        "id": "PvlQ0VPi7Afy"
      },
      "outputs": [],
      "source": [
        "train_df.head()"
      ]
    },
    {
      "cell_type": "code",
      "execution_count": null,
      "metadata": {
        "id": "vOCsUCz_7Afz"
      },
      "outputs": [],
      "source": [
        "train_df['percentage_positive'].hist()"
      ]
    },
    {
      "cell_type": "code",
      "execution_count": null,
      "metadata": {
        "id": "T-h5hz9E7Afz"
      },
      "outputs": [],
      "source": [
        "sns.distplot(train_df['percentage_positive'])"
      ]
    },
    {
      "cell_type": "code",
      "execution_count": null,
      "metadata": {
        "id": "o96fKg6K7Af0"
      },
      "outputs": [],
      "source": [
        "data1=train_df[train_df['percentage_positive']==100]\n",
        "data1.shape"
      ]
    },
    {
      "cell_type": "code",
      "execution_count": null,
      "metadata": {
        "id": "w4uN3tdj7Af0"
      },
      "outputs": [],
      "source": [
        "data1['sdg'].value_counts().plot(kind='bar')"
      ]
    },
    {
      "cell_type": "markdown",
      "metadata": {
        "id": "zqUhiWy57Af0"
      },
      "source": [
        "### iii. Drop Columns"
      ]
    },
    {
      "cell_type": "code",
      "execution_count": null,
      "metadata": {
        "id": "Eao2AXxC7Af1"
      },
      "outputs": [],
      "source": [
        "def drop(df):\n",
        "    columns=['doi', 'text_id', 'labels_negative', 'labels_positive', 'agreement','percentage_positive']\n",
        "    df=df.drop(columns, axis=1)\n",
        "    return df"
      ]
    },
    {
      "cell_type": "code",
      "execution_count": null,
      "metadata": {
        "id": "ZZ6JwnA67Af1"
      },
      "outputs": [],
      "source": [
        "data1_train=drop(data1)\n",
        "data1_train=data1_train.set_index('id')\n",
        "data1_train.head()"
      ]
    },
    {
      "cell_type": "markdown",
      "metadata": {
        "id": "hkqct3Mr7Af1"
      },
      "source": [
        "## Data Engineering"
      ]
    },
    {
      "cell_type": "code",
      "execution_count": null,
      "metadata": {
        "id": "2fq-SbMu7Af2"
      },
      "outputs": [],
      "source": [
        "def join_w(words):\n",
        "    words=' '.join(words)\n",
        "    return words"
      ]
    },
    {
      "cell_type": "code",
      "execution_count": null,
      "metadata": {
        "id": "rdpQFr1h7Af2"
      },
      "outputs": [],
      "source": [
        "#Vectorize our text data so as to transform our text into numbers. This way, it can be accpeted by our model.\n",
        "vect = TfidfVectorizer(lowercase=False, stop_words='english', ngram_range=(1, 4))\n",
        "vect_dict= vect.fit_transform(data1_train['text_lemmatized'].apply(join_w))"
      ]
    },
    {
      "cell_type": "code",
      "execution_count": null,
      "metadata": {
        "id": "yID683VX7Af3"
      },
      "outputs": [],
      "source": []
    },
    {
      "cell_type": "markdown",
      "source": [
        "<a id=\"five\"></a>\n",
        "# 5. Data Engineering\n",
        "<a class=\"anchor\" id=\"1.1\"></a>\n",
        "<a href=#cont>Back to Table of Contents</a>\n",
        "\n",
        "---"
      ],
      "metadata": {
        "id": "3PbPuGPxIJ2M"
      }
    },
    {
      "cell_type": "code",
      "source": [],
      "metadata": {
        "id": "xyu4CYQ_IOsk"
      },
      "execution_count": null,
      "outputs": []
    },
    {
      "cell_type": "markdown",
      "source": [
        "<a id=\"six\"></a>\n",
        "# 6. Modeling\n",
        "<a class=\"anchor\" id=\"1.1\"></a>\n",
        "<a href=#cont>Back to Table of Contents</a>\n",
        "\n",
        "---"
      ],
      "metadata": {
        "id": "r5QIuT_FIPHL"
      }
    },
    {
      "cell_type": "code",
      "source": [],
      "metadata": {
        "id": "arvT1YV_IR7S"
      },
      "execution_count": null,
      "outputs": []
    },
    {
      "cell_type": "markdown",
      "source": [
        "<a id=\"seven\"></a>\n",
        "# 7. Model Performance\n",
        "<a class=\"anchor\" id=\"1.1\"></a>\n",
        "<a href=#cont>Back to Table of Contents</a>\n",
        "\n",
        "---"
      ],
      "metadata": {
        "id": "mDLzuEVgIShQ"
      }
    },
    {
      "cell_type": "code",
      "source": [],
      "metadata": {
        "id": "Cg89B7K6IU2N"
      },
      "execution_count": null,
      "outputs": []
    },
    {
      "cell_type": "markdown",
      "source": [
        "<a id=\"eight\"></a>\n",
        "# 8. Model Explanations\n",
        "<a class=\"anchor\" id=\"1.1\"></a>\n",
        "<a href=#cont>Back to Table of Contents</a>\n",
        "\n",
        "---"
      ],
      "metadata": {
        "id": "fAaXwcBKIVSA"
      }
    },
    {
      "cell_type": "markdown",
      "source": [
        "<a id=\"nine\"></a>\n",
        "# 9.  Conclusion\n",
        "<a class=\"anchor\" id=\"1.1\"></a>\n",
        "<a href=#cont>Back to Table of Contents</a>\n",
        "\n",
        "---"
      ],
      "metadata": {
        "id": "FzpO3KVVIXvN"
      }
    },
    {
      "cell_type": "code",
      "source": [],
      "metadata": {
        "id": "m797CMLfIZT4"
      },
      "execution_count": null,
      "outputs": []
    },
    {
      "cell_type": "markdown",
      "source": [
        "<a id=\"ten\"></a>\n",
        "# 10. References\n",
        "<a class=\"anchor\" id=\"1.1\"></a>\n",
        "<a href=#cont>Back to Table of Contents</a>\n",
        "\n",
        "---"
      ],
      "metadata": {
        "id": "ede-T-MmIZsb"
      }
    }
  ],
  "metadata": {
    "colab": {
      "name": "sdg_project_notebook.ipynb",
      "provenance": []
    },
    "kernelspec": {
      "display_name": "Python 3 (ipykernel)",
      "language": "python",
      "name": "python3"
    },
    "language_info": {
      "codemirror_mode": {
        "name": "ipython",
        "version": 3
      },
      "file_extension": ".py",
      "mimetype": "text/x-python",
      "name": "python",
      "nbconvert_exporter": "python",
      "pygments_lexer": "ipython3",
      "version": "3.9.7"
    }
  },
  "nbformat": 4,
  "nbformat_minor": 0
}